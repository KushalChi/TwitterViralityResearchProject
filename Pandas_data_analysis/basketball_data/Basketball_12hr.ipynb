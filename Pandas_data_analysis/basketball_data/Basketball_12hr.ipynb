{
 "cells": [
  {
   "cell_type": "code",
   "execution_count": null,
   "metadata": {},
   "outputs": [],
   "source": [
    "import matplotlib.pyplot as plt\n",
    "import numpy as np\n",
    "import pandas as pd\n",
    "from sklearn.linear_model import LinearRegression"
   ]
  },
  {
   "cell_type": "code",
   "execution_count": null,
   "metadata": {},
   "outputs": [],
   "source": [
    "'''Date Time vs Favorites Cell'''\n",
    "\n",
    "dataFrame_basketball = pd.read_csv('Enter your full path to basketball_12hr.csv here')\n",
    "\n",
    "dataFrame_basketball = dataFrame_basketball[0:11]\n",
    "\n",
    "dataFrame_basketball[\"DateTime\"] = pd.to_datetime(dataFrame_basketball['DateTime'])\n",
    "var = dataFrame_basketball[\"DateTime\"]\n",
    "\n",
    "%matplotlib inline\n",
    "plt.title(\"Bleacher Report Basketball Favorites vs DateTime\")\n",
    "plt.xlabel(\"Date Time\")\n",
    "plt.ylabel(\"Favorite Count\")\n",
    "plt.plot(var, dataFrame_basketball.Favorites)"
   ]
  },
  {
   "cell_type": "code",
   "execution_count": null,
   "metadata": {},
   "outputs": [],
   "source": [
    "'''Derivative Graph (Favorites vs DateTime)'''\n",
    "\n",
    "'''This cell plots the graph of the derivate of dates vs favorite count of a sample tweet, \n",
    "where date is with respect to the x axis and favorites is with respect to the y-axis.'''\n",
    "\n",
    "derivativeList = dataFrame_basketball.Favorites.diff()\n",
    "\n",
    "%matplotlib inline\n",
    "plt.title(\"Bleacher Report Basketball Favorites vs DateTime Derivative\")\n",
    "plt.xlabel(\"Date Time\")\n",
    "plt.ylabel(\"Favorite Count\")\n",
    "plt.plot(var, derivativeList)"
   ]
  },
  {
   "cell_type": "code",
   "execution_count": null,
   "metadata": {},
   "outputs": [],
   "source": [
    "'''Favorites vs Retweets Data Graph'''\n",
    "\n",
    "'''This cell plots the graph of dates vs retweet count of a sample tweet, where date \n",
    "is with respect to the x axis and favorites is with respect to the y-axis.'''\n",
    "\n",
    "%matplotlib inline\n",
    "plt.title(\"Bleacher Report Basketball Retweets vs DateTime\")\n",
    "plt.xlabel(\"Date Time\")\n",
    "plt.ylabel(\"Retweet Count\")\n",
    "plt.plot(var, dataFrame_basketball.Retweets)"
   ]
  },
  {
   "cell_type": "code",
   "execution_count": null,
   "metadata": {},
   "outputs": [],
   "source": [
    "'''Derivative Graph (Retweets vs DateTime)'''\n",
    "\n",
    "'''This cell plots the graph of the derivate of dates vs retweet count of a sample tweet, \n",
    "where date is with respect to the x axis and favorites is with respect to the y-axis.'''\n",
    "\n",
    "derivativeList_r = dataFrame_basketball.Retweets.diff()\n",
    "\n",
    "%matplotlib inline\n",
    "plt.title(\"Bleacher Report Basketball Retweets vs DateTime Derivative\")\n",
    "plt.xlabel(\"Date Time\")\n",
    "plt.ylabel(\"Retweet Count\")\n",
    "plt.plot(var, derivativeList_r)"
   ]
  },
  {
   "cell_type": "code",
   "execution_count": null,
   "metadata": {},
   "outputs": [],
   "source": [
    "'''Favorites vs Retweets Data Graph'''\n",
    "\n",
    "'''This cell plots the graph of the favorites vs retweet count of a sample tweet, \n",
    "where date is with respect to the x axis and favorites is with respect to the y-axis.'''\n",
    "\n",
    "plt.plot(dataFrame_basketball.Favorites, dataFrame_basketball.Retweets)"
   ]
  },
  {
   "cell_type": "code",
   "execution_count": null,
   "metadata": {},
   "outputs": [],
   "source": [
    "'''Calculating Pearson Correlation Cell'''\n",
    "\n",
    "#calculates pearson correlation coefficient matrix\n",
    "\n",
    "dataFrame_basketball.corr(method ='pearson')  "
   ]
  },
  {
   "cell_type": "code",
   "execution_count": null,
   "metadata": {},
   "outputs": [],
   "source": [
    "'''Calculating Slope Cell'''\n",
    "\n",
    "X = dataFrame_basketball.iloc[:, 1].values.reshape(-1, 1)  # values converts it into a numpy array\n",
    "Y = dataFrame_basketball.iloc[:, 2].values.reshape(-1, 1)  # -1 means that calculate the dimension of rows, but have 1 column\n",
    "linear_regressor = LinearRegression()  # create object for the class\n",
    "linear_regressor.fit(X, Y)  # perform linear regression\n",
    "Y_pred = linear_regressor.predict(X)  #Y_pred stores the y coordinates of the line of best fit"
   ]
  },
  {
   "cell_type": "code",
   "execution_count": null,
   "metadata": {},
   "outputs": [],
   "source": [
    "plt.scatter(X, Y)\n",
    "plt.plot(X, Y_pred, color='red')\n",
    "plt.show()"
   ]
  },
  {
   "cell_type": "code",
   "execution_count": null,
   "metadata": {},
   "outputs": [],
   "source": [
    "'''Calculating Slope annd Y-Intercept of Regression Line Cell'''\n",
    "\n",
    "#Print slope of regression line\n",
    "\n",
    "print(linear_regressor.coef_[0][0])\n",
    "\n",
    "#Print Y-intercept of regression line\n",
    "print(linear_regressor.intercept_[0])"
   ]
  },
  {
   "cell_type": "code",
   "execution_count": null,
   "metadata": {},
   "outputs": [],
   "source": [
    "from scipy import stats\n",
    "\n",
    "import itertools\n",
    "x = list(itertools.chain(*X))\n",
    "y = list(itertools.chain(*Y))\n",
    "\n",
    "slope, intercept, r_value, p_value, std_err = stats.linregress(x,y)\n",
    "    \n",
    "confidence_interval = 2.58*std_err\n",
    "confidence_interval\n",
    "\n",
    "(slope-confidence_interval, slope+confidence_interval)"
   ]
  }
 ],
 "metadata": {
  "kernelspec": {
   "display_name": "Python 3",
   "language": "python",
   "name": "python3"
  },
  "language_info": {
   "codemirror_mode": {
    "name": "ipython",
    "version": 3
   },
   "file_extension": ".py",
   "mimetype": "text/x-python",
   "name": "python",
   "nbconvert_exporter": "python",
   "pygments_lexer": "ipython3",
   "version": "3.7.4"
  }
 },
 "nbformat": 4,
 "nbformat_minor": 4
}
